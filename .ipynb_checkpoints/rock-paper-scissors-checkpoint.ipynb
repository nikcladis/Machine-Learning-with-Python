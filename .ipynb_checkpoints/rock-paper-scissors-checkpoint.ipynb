{
 "cells": [
  {
   "cell_type": "markdown",
   "id": "dc3375b5",
   "metadata": {},
   "source": [
    "# 1 Rock Paper Scissors"
   ]
  },
  {
   "cell_type": "markdown",
   "id": "52969d0e",
   "metadata": {},
   "source": [
    "## 1.1 Problem Description"
   ]
  },
  {
   "cell_type": "markdown",
   "id": "5ece753a",
   "metadata": {},
   "source": [
    "<p>For this challenge, you will create a program to play Rock, Paper, Scissors. A program that picks at random will usually win 50% of the time. To pass this challenge your program must play matches against four different bots, winning at least 60% of the games in each match.</p>"
   ]
  },
  {
   "cell_type": "markdown",
   "id": "3b65c708",
   "metadata": {},
   "source": [
    "<p>You will be <a href=\"https://replit.com/github/freeCodeCamp/boilerplate-rock-paper-scissors\" target=\"_blank\" rel=\"noopener noreferrer nofollow\">working on this project with our Replit starter code</a>.</p>"
   ]
  },
  {
   "cell_type": "markdown",
   "id": "3488c8c1",
   "metadata": {},
   "source": [
    "<p>In the file <code>RPS.py</code> you are provided with a function called <code>player</code>. The function takes an argument that is a string describing the last move of the opponent (\"R\", \"P\", or \"S\"). The function should return a string representing the next move for it to play (\"R\", \"P\", or \"S\").</p>"
   ]
  },
  {
   "cell_type": "markdown",
   "id": "28113429",
   "metadata": {},
   "source": [
    "<p>A player function will receive an empty string as an argument for the first game in a match since there is no previous play.</p>"
   ]
  },
  {
   "cell_type": "markdown",
   "id": "f908782c",
   "metadata": {},
   "source": [
    "<p>The file <code>RPS.py</code> shows an example function that you will need to update. The example function is defined with two arguments (<code>player(prev_play, opponent_history = [])</code>). The function is never called with a second argument so that one is completely optional. The reason why the example function contains a second argument (<code>opponent_history = []</code>) is because that is the only way to save state between consecutive calls of the <code>player</code> function. You only need the <code>opponent_history</code> argument if you want to keep track of the opponent_history.</p>"
   ]
  },
  {
   "cell_type": "markdown",
   "id": "0930f3d7",
   "metadata": {},
   "source": [
    "<em>Hint: To defeat all four opponents, your program may need to have multiple strategies that change depending on the plays of the opponent.</em>"
   ]
  },
  {
   "cell_type": "markdown",
   "id": "050005ac",
   "metadata": {},
   "source": [
    "<h2>Development</h2>"
   ]
  },
  {
   "cell_type": "markdown",
   "id": "336488a2",
   "metadata": {},
   "source": [
    "<p>Do not modify <code>RPS_game.py</code>. Write all your code in <code>RPS.py</code>. For development, you can use <code>main.py</code> to test your code.</p>"
   ]
  },
  {
   "cell_type": "markdown",
   "id": "2081207a",
   "metadata": {},
   "source": [
    "<p><code>main.py</code> imports the game function and bots from <code>RPS_game.py</code>.</p>"
   ]
  },
  {
   "cell_type": "markdown",
   "id": "42c3e6ac",
   "metadata": {},
   "source": [
    "<p>To test your code, play a game with the <code>play</code> function. The <code>play</code> function takes four arguments:</p>"
   ]
  },
  {
   "cell_type": "markdown",
   "id": "a9deca8a",
   "metadata": {},
   "source": [
    "<ul>\n",
    "<li>two players to play against each other (the players are actually functions)</li>\n",
    "<li>the number of games to play in the match</li>\n",
    "<li>an optional argument to see a log of each game. Set it to <code>True</code> to see these messages.</li>\n",
    "</ul>"
   ]
  },
  {
   "cell_type": "markdown",
   "id": "3536e810",
   "metadata": {},
   "source": [
    "<pre class=\"language-py\" tabindex=\"0\"><code class=\"language-py\">play<span class=\"token punctuation\">(</span>player1<span class=\"token punctuation\">,</span> player2<span class=\"token punctuation\">,</span> num_games<span class=\"token punctuation\">[</span><span class=\"token punctuation\">,</span> verbose<span class=\"token punctuation\">]</span><span class=\"token punctuation\">)</span>\n",
    "</code></pre>"
   ]
  },
  {
   "cell_type": "markdown",
   "id": "eb14d9c1",
   "metadata": {},
   "source": [
    "<p>For example, here is how you would call the function if you want <code>player</code> and <code>quincy</code> to play 1000 games against each other and you want to see the results of each game:</p>"
   ]
  },
  {
   "cell_type": "markdown",
   "id": "aa7cfc59",
   "metadata": {},
   "source": [
    "<pre class=\"language-py\" tabindex=\"0\"><code class=\"language-py\">play<span class=\"token punctuation\">(</span>player<span class=\"token punctuation\">,</span> quincy<span class=\"token punctuation\">,</span> <span class=\"token number\">1000</span><span class=\"token punctuation\">,</span> verbose<span class=\"token operator\">=</span><span class=\"token boolean\">True</span><span class=\"token punctuation\">)</span>\n",
    "</code></pre>"
   ]
  },
  {
   "cell_type": "markdown",
   "id": "c8170fc2",
   "metadata": {},
   "source": [
    "<p>Click the \"run\" button and <code>main.py</code> will run.</p>"
   ]
  },
  {
   "cell_type": "markdown",
   "id": "54e861e6",
   "metadata": {},
   "source": [
    "<h2>Testing</h2>"
   ]
  },
  {
   "cell_type": "markdown",
   "id": "de0ec319",
   "metadata": {},
   "source": [
    "<p>The unit tests for this project are in <code>test_module.py</code>. We imported the tests from <code>test_module.py</code> to <code>main.py</code> for your convenience. If you uncomment the last line in <code>main.py</code>, the tests will run automatically whenever you hit the \"run\" button.</p>"
   ]
  },
  {
   "cell_type": "markdown",
   "id": "ea5cd4f1",
   "metadata": {},
   "source": [
    "<h2>Submitting</h2>"
   ]
  },
  {
   "cell_type": "markdown",
   "id": "5b6049a2",
   "metadata": {},
   "source": [
    "<p dir=\"auto\">Copy your project's URL and submit it to freeCodeCamp.</p>"
   ]
  },
  {
   "cell_type": "markdown",
   "id": "84c6b675",
   "metadata": {},
   "source": [
    "## 1.2 Problem Solution"
   ]
  },
  {
   "cell_type": "markdown",
   "id": "96a4a3c7",
   "metadata": {},
   "source": [
    "### 1.2.1 Game Driver"
   ]
  },
  {
   "cell_type": "code",
   "execution_count": 2,
   "id": "1102ee60",
   "metadata": {},
   "outputs": [],
   "source": [
    "import random\n",
    "from collections import Counter"
   ]
  },
  {
   "cell_type": "code",
   "execution_count": 3,
   "id": "cce9f243",
   "metadata": {},
   "outputs": [],
   "source": [
    "def play(player1, player2, num_games, verbose=False):\n",
    "    p1_prev_play = \"\"\n",
    "    p2_prev_play = \"\"\n",
    "    results = {\"p1\": 0, \"p2\": 0, \"tie\": 0}\n",
    "\n",
    "    for _ in range(num_games):\n",
    "        p1_play = player1(p2_prev_play)\n",
    "        p2_play = player2(p1_prev_play)\n",
    "\n",
    "        if p1_play == p2_play:\n",
    "            results[\"tie\"] += 1\n",
    "            winner = \"Tie.\"\n",
    "        elif (\n",
    "            (p1_play == \"P\" and p2_play == \"R\")\n",
    "            or (p1_play == \"R\" and p2_play == \"S\")\n",
    "            or (p1_play == \"S\" and p2_play == \"P\")\n",
    "        ):\n",
    "            results[\"p1\"] += 1\n",
    "            winner = \"Player 1 wins.\"\n",
    "        elif (\n",
    "            p2_play == \"P\"\n",
    "            and p1_play == \"R\"\n",
    "            or p2_play == \"R\"\n",
    "            and p1_play == \"S\"\n",
    "            or p2_play == \"S\"\n",
    "            and p1_play == \"P\"\n",
    "        ):\n",
    "            results[\"p2\"] += 1\n",
    "            winner = \"Player 2 wins.\"\n",
    "\n",
    "        if verbose:\n",
    "            print(\"Player 1:\", p1_play, \"| Player 2:\", p2_play)\n",
    "            print(winner)\n",
    "            print()\n",
    "\n",
    "        p1_prev_play = p1_play\n",
    "        p2_prev_play = p2_play\n",
    "\n",
    "    games_won = results[\"p2\"] + results[\"p1\"]\n",
    "\n",
    "    if games_won == 0:\n",
    "        win_rate = 0\n",
    "    else:\n",
    "        win_rate = results[\"p1\"] / games_won * 100\n",
    "\n",
    "    print(\"Final results:\", results)\n",
    "    print(f\"Player 1 win rate: {win_rate}%\")\n",
    "\n",
    "    return win_rate"
   ]
  },
  {
   "cell_type": "code",
   "execution_count": 4,
   "id": "30c8fe09",
   "metadata": {},
   "outputs": [],
   "source": [
    "def quincy(prev_play, counter=[0]):\n",
    "    counter[0] += 1\n",
    "    choices = [\"R\", \"R\", \"P\", \"P\", \"S\"]\n",
    "    return choices[counter[0] % len(choices)]"
   ]
  },
  {
   "cell_type": "code",
   "execution_count": 5,
   "id": "335875bf",
   "metadata": {},
   "outputs": [],
   "source": [
    "def mrugesh(prev_opponent_play, opponent_history=[]):\n",
    "    opponent_history.append(prev_opponent_play)\n",
    "    last_ten = opponent_history[-10:]\n",
    "    most_frequent = max(set(last_ten), key=last_ten.count)\n",
    "\n",
    "    if most_frequent == \"\":\n",
    "        most_frequent = \"S\"\n",
    "\n",
    "    ideal_response = {\"P\": \"S\", \"R\": \"P\", \"S\": \"R\"}\n",
    "    return ideal_response[most_frequent]"
   ]
  },
  {
   "cell_type": "code",
   "execution_count": 6,
   "id": "8929fd3d",
   "metadata": {},
   "outputs": [],
   "source": [
    "def kris(prev_opponent_play):\n",
    "    if prev_opponent_play == \"\":\n",
    "        prev_opponent_play = \"R\"\n",
    "    ideal_response = {\"P\": \"S\", \"R\": \"P\", \"S\": \"R\"}\n",
    "    return ideal_response[prev_opponent_play]"
   ]
  },
  {
   "cell_type": "code",
   "execution_count": 7,
   "id": "c9f34acd",
   "metadata": {},
   "outputs": [],
   "source": [
    "def abbey(\n",
    "    prev_opponent_play,\n",
    "    opponent_history=[],\n",
    "    play_order=[\n",
    "        {\n",
    "            \"RR\": 0,\n",
    "            \"RP\": 0,\n",
    "            \"RS\": 0,\n",
    "            \"PR\": 0,\n",
    "            \"PP\": 0,\n",
    "            \"PS\": 0,\n",
    "            \"SR\": 0,\n",
    "            \"SP\": 0,\n",
    "            \"SS\": 0,\n",
    "        }\n",
    "    ],\n",
    "):\n",
    "    if not prev_opponent_play:\n",
    "        prev_opponent_play = \"R\"\n",
    "    opponent_history.append(prev_opponent_play)\n",
    "\n",
    "    last_two = \"\".join(opponent_history[-2:])\n",
    "    if len(last_two) == 2:\n",
    "        play_order[0][last_two] += 1\n",
    "\n",
    "    potential_plays = [\n",
    "        prev_opponent_play + \"R\",\n",
    "        prev_opponent_play + \"P\",\n",
    "        prev_opponent_play + \"S\",\n",
    "    ]\n",
    "\n",
    "    sub_order = {\n",
    "        k: play_order[0][k] for k in potential_plays if k in play_order[0]\n",
    "    }\n",
    "    prediction = max(sub_order, key=sub_order.get)[-1:]\n",
    "\n",
    "    ideal_response = {\"P\": \"S\", \"R\": \"P\", \"S\": \"R\"}\n",
    "    return ideal_response[prediction]"
   ]
  },
  {
   "cell_type": "code",
   "execution_count": 8,
   "id": "4019d8cf",
   "metadata": {},
   "outputs": [],
   "source": [
    "def human(prev_opponent_play):\n",
    "    play = \"\"\n",
    "    while play not in [\"R\", \"P\", \"S\"]:\n",
    "        play = input(\"[R]ock, [P]aper, [S]cissors? \")\n",
    "        print(play)\n",
    "    return play"
   ]
  },
  {
   "cell_type": "code",
   "execution_count": 9,
   "id": "2100f7e8",
   "metadata": {},
   "outputs": [],
   "source": [
    "def random_player(prev_opponent_play):\n",
    "    return random.choice([\"R\", \"P\", \"S\"])"
   ]
  },
  {
   "cell_type": "markdown",
   "id": "21844559",
   "metadata": {},
   "source": [
    "### 1.2.2 Solution"
   ]
  },
  {
   "cell_type": "markdown",
   "id": "112906be",
   "metadata": {},
   "source": [
    "Map between a move and its counter."
   ]
  },
  {
   "cell_type": "code",
   "execution_count": 10,
   "id": "4f65c94a",
   "metadata": {},
   "outputs": [],
   "source": [
    "counter_move = {\"R\": \"P\", \"P\": \"S\", \"S\": \"R\"}"
   ]
  },
  {
   "cell_type": "markdown",
   "id": "c15d6ff7",
   "metadata": {},
   "source": [
    "Our player implementation:"
   ]
  },
  {
   "cell_type": "code",
   "execution_count": 14,
   "id": "cc190fb2",
   "metadata": {},
   "outputs": [
    {
     "name": "stdout",
     "output_type": "stream",
     "text": [
      "Final results: {'p1': 993, 'p2': 3, 'tie': 4}\n",
      "Player 1 win rate: 99.69879518072288%\n",
      "Final results: {'p1': 839, 'p2': 156, 'tie': 5}\n",
      "Player 1 win rate: 84.321608040201%\n",
      "Final results: {'p1': 498, 'p2': 293, 'tie': 209}\n",
      "Player 1 win rate: 62.958280657395704%\n",
      "Final results: {'p1': 597, 'p2': 291, 'tie': 112}\n",
      "Player 1 win rate: 67.22972972972973%\n"
     ]
    },
    {
     "data": {
      "text/plain": [
       "67.22972972972973"
      ]
     },
     "execution_count": 14,
     "metadata": {},
     "output_type": "execute_result"
    }
   ],
   "source": [
    "steps = {}\n",
    "\n",
    "\n",
    "# the strategy is similar to abbey, but we look back harder than her.\n",
    "# she only looks back 2 steps, find most frequently pattern of all 2 moves,\n",
    "#\n",
    "# Other strategies:\n",
    "#\n",
    "# - quincy repeat 5 moves\n",
    "# - kris always counter our last moves, hence, once we establed a patterns, he is not a problem\n",
    "# - mrugresh look for our top pick in last 10 moves, hence, similar to kris, once we establed a pattern, we're in control.\n",
    "\n",
    "def player(prev_play, opponent_history=[]):\n",
    "    if prev_play != \"\":\n",
    "        opponent_history.append(prev_play)\n",
    "\n",
    "    # Interestingly, 3 to 6 works best, as in we win more than 60%.\n",
    "    # If n is larger than 6, we start to get terrible result.\n",
    "    # I guess it's because we don't have enough data to predict once n get that larger, we only play 1000 games.\n",
    "    \n",
    "    n = 5\n",
    "    hist = opponent_history\n",
    "\n",
    "    guess = \"R\"\n",
    "    if len(hist) > n:\n",
    "        pattern = join(hist[-n:])\n",
    "\n",
    "        if join(hist[-(n + 1):]) in steps.keys():\n",
    "            steps[join(hist[-(n + 1):])] += 1\n",
    "        else:\n",
    "            steps[join(hist[-(n + 1):])] = 1\n",
    "\n",
    "        possible = [pattern + \"R\", pattern + \"P\", pattern + \"S\"]\n",
    "\n",
    "        for i in possible:\n",
    "            if not i in steps.keys():\n",
    "                steps[i] = 0\n",
    "\n",
    "        predict = max(possible, key=lambda key: steps[key])\n",
    "\n",
    "        if predict[-1] == \"P\":\n",
    "            guess = \"S\"\n",
    "        if predict[-1] == \"R\":\n",
    "            guess = \"P\"\n",
    "        if predict[-1] == \"S\":\n",
    "            guess = \"R\"\n",
    "\n",
    "    return guess\n",
    "\n",
    "steps = {}\n",
    "\n",
    "\n",
    "# the strategy is similar to abbey, but we look backs harder than her.\n",
    "# she only look back 2 steps, find most frequently pattern of all 2 moves,\n",
    "#\n",
    "# Other strategies:\n",
    "#\n",
    "# - quincy repeat 5 moves\n",
    "# - kris always counter our last moves, hence, once we establed a patterns, he\n",
    "# is not a problem\n",
    "# - mrugresh look for our top pick in last 10 moves, hence, similar to kris,\n",
    "# once we establed a pattern, we're in control.\n",
    "def player(prev_play, opponent_history=[]):\n",
    "    if prev_play != \"\":\n",
    "        opponent_history.append(prev_play)\n",
    "\n",
    "    # Interestingly, 3 to 6 works best, as in we win more than 60%.\n",
    "    # If n is larger than 6, we start to get terrible result.\n",
    "    # I guess it's becauase we don't have enough data to predict once n get that\n",
    "    # larger, we only play 1000 games.\n",
    "    n = 4\n",
    "\n",
    "    hist = opponent_history\n",
    "\n",
    "    guess = \"R\"\n",
    "    if len(hist) > n:\n",
    "        pattern = join(hist[-n:])\n",
    "\n",
    "        if join(hist[-(n + 1):]) in steps.keys():\n",
    "            steps[join(hist[-(n + 1):])] += 1\n",
    "        else:\n",
    "            steps[join(hist[-(n + 1):])] = 1\n",
    "\n",
    "        possible = [pattern + \"R\", pattern + \"P\", pattern + \"S\"]\n",
    "\n",
    "        for i in possible:\n",
    "            if not i in steps.keys():\n",
    "                steps[i] = 0\n",
    "\n",
    "        predict = max(possible, key=lambda key: steps[key])\n",
    "\n",
    "        if predict[-1] == \"P\":\n",
    "            guess = \"S\"\n",
    "        if predict[-1] == \"R\":\n",
    "            guess = \"P\"\n",
    "        if predict[-1] == \"S\":\n",
    "            guess = \"R\"\n",
    "\n",
    "    return guess\n",
    "\n",
    "\n",
    "def join(moves):\n",
    "    return \"\".join(moves)\n",
    "\n",
    "\n",
    "play(player, quincy, 1000)\n",
    "play(player, mrugesh, 1000)\n",
    "play(player, abbey, 1000)\n",
    "play(player, kris, 1000)"
   ]
  },
  {
   "cell_type": "markdown",
   "id": "82c81f53",
   "metadata": {},
   "source": [
    "## 1.3 Testing"
   ]
  },
  {
   "cell_type": "code",
   "execution_count": 15,
   "id": "f65084db",
   "metadata": {},
   "outputs": [
    {
     "name": "stderr",
     "output_type": "stream",
     "text": [
      "....\n",
      "----------------------------------------------------------------------\n",
      "Ran 4 tests in 0.028s\n",
      "\n",
      "OK\n"
     ]
    },
    {
     "name": "stdout",
     "output_type": "stream",
     "text": [
      "\n",
      "Testing game against abbey...\n",
      "Final results: {'p1': 564, 'p2': 245, 'tie': 191}\n",
      "Player 1 win rate: 69.71569839307787%\n",
      "Testing game against kris...\n",
      "Final results: {'p1': 708, 'p2': 244, 'tie': 48}\n",
      "Player 1 win rate: 74.36974789915966%\n",
      "Testing game against mrugesh...\n",
      "Final results: {'p1': 831, 'p2': 151, 'tie': 18}\n",
      "Player 1 win rate: 84.62321792260693%\n",
      "Testing game against quincy...\n",
      "Final results: {'p1': 996, 'p2': 2, 'tie': 2}\n",
      "Player 1 win rate: 99.79959919839679%\n"
     ]
    }
   ],
   "source": [
    "import unittest\n",
    "\n",
    "class UnitTests(unittest.TestCase):\n",
    "    print()\n",
    "\n",
    "    def test_player_vs_quincy(self):\n",
    "        print(\"Testing game against quincy...\")\n",
    "        actual = play(player, quincy, 1000) >= 60\n",
    "        self.assertTrue(\n",
    "            actual,\n",
    "            'Expected player to defeat quincy at least 60% of the time.')\n",
    "\n",
    "    def test_player_vs_abbey(self):\n",
    "        print(\"Testing game against abbey...\")\n",
    "        actual = play(player, abbey, 1000) >= 60\n",
    "        self.assertTrue(\n",
    "            actual,\n",
    "            'Expected player to defeat abbey at least 60% of the time.')\n",
    "\n",
    "    def test_player_vs_kris(self):\n",
    "        print(\"Testing game against kris...\")\n",
    "        actual = play(player, kris, 1000) >= 60\n",
    "        self.assertTrue(\n",
    "            actual, 'Expected player to defeat kris at least 60% of the time.')\n",
    "\n",
    "    def test_player_vs_mrugesh(self):\n",
    "        print(\"Testing game against mrugesh...\")\n",
    "        actual = play(player, mrugesh, 1000) >= 60\n",
    "        self.assertTrue(\n",
    "            actual,\n",
    "            'Expected player to defeat mrugesh at least 60% of the time.')\n",
    "\n",
    "\n",
    "if __name__ == \"__main__\":\n",
    "    unittest.main(argv=[\"first-arg-is-ignored\"], exit=False)"
   ]
  },
  {
   "cell_type": "code",
   "execution_count": null,
   "id": "cf4413de",
   "metadata": {},
   "outputs": [],
   "source": []
  }
 ],
 "metadata": {
  "kernelspec": {
   "display_name": "Python 3 (ipykernel)",
   "language": "python",
   "name": "python3"
  },
  "language_info": {
   "codemirror_mode": {
    "name": "ipython",
    "version": 3
   },
   "file_extension": ".py",
   "mimetype": "text/x-python",
   "name": "python",
   "nbconvert_exporter": "python",
   "pygments_lexer": "ipython3",
   "version": "3.10.5"
  }
 },
 "nbformat": 4,
 "nbformat_minor": 5
}
